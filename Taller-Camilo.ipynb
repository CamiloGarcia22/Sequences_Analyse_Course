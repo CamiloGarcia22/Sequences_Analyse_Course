{
 "cells": [
  {
   "cell_type": "markdown",
   "metadata": {},
   "source": [
    "# Taller 1 de análisis de secuencias\n",
    "\n",
    "#### En este taller se busca hacer uso de diferentes funciones bioinformaticas para obtener los archivos .fastq a partir de datos brutos .fast5 del fago lambda y obtener estadisticas generales de los resultados."
   ]
  },
  {
   "cell_type": "markdown",
   "metadata": {},
   "source": [
    "### 1. Obtener datos de secuenciación en formato .fast5 y .fastq\n",
    "\n",
    "Para este paso se utilizó Albacore que permitió realizar un basecalling de archivos .fast5 tanto y generar de nuevo archivos .fastq. Para la instalación de Albacore en MacOS se usó el administrador conda para instalar en primer lugar Homebrew: `conda install homebrew` hombrew es un administrador que permite instalar Albacore. \n",
    "\n",
    "El sigiente paso para instalar Albacore es usar el comando `brew install @path` donde `@path` \n",
    "    corresponde a la ruta de acceso al paquete de albacore\n",
    "    \n",
    "Una vez instalado Albacore, se ejecuta el siguiende comando desde la terminal:\n",
    "    \n",
    "`read_fast5_basecaller.py -i /Users/camilogarcia/Desktop/5 -r -k SQK-RAD002 -f FLO-MIN106 -o fast5,fastq -t 1 -s /Users/camilogarcia/Desktop/Fastq-5/`\n",
    "\n",
    "\n",
    "Para este ejercicio se realizó un basecalling de la carpeta 5 de reads del fago \\lambda. En la anterior linea de comando son necesarios siempre los argumentos `- t` que se refiere al numero de núcleos por utilziar en la tarea `-k` que denota el kit de preparación de librería y `-f` que indica el tipo de celda que se uso durante la corrida.\n",
    "\n",
    "El resutlado es una carpeta, que en este caso contiene tanto los archivos .fast5 como los .fastq\n",
    "\n",
    "\n",
    "### 2. Installar `poretools` y obtener estadisticas de los reads\n",
    "\n",
    "Para la instalación de `poretools` se usó el administrador Anaconda y se instalo el paquete en el ambiente por defecto con el comando: `conda install poretools`. Una primera idea de los datos se puede tener usando la función `stats`"
   ]
  },
  {
   "cell_type": "code",
   "execution_count": 14,
   "metadata": {},
   "outputs": [
    {
     "name": "stdout",
     "output_type": "stream",
     "text": [
      "/Users/camilogarcia/anaconda2/lib/python2.7/site-packages/h5py/__init__.py:36: FutureWarning: Conversion of the second argument of issubdtype from `float` to `np.floating` is deprecated. In future, it will be treated as `np.float64 == np.dtype(float).type`.\n",
      "  from ._conv import register_converters as _register_converters\n",
      "total reads\t816\n",
      "total base pairs\t3561116\n",
      "mean\t4364.11\n",
      "median\t2544\n",
      "min\t163\n",
      "max\t30212\n",
      "N25\t14364\n",
      "N50\t7398\n",
      "N75\t4288\n"
     ]
    }
   ],
   "source": [
    "!poretools stats -q /Users/camilogarcia/Desktop/Fastq-5/workspace/fail/0"
   ]
  },
  {
   "cell_type": "markdown",
   "metadata": {},
   "source": [
    "En el caso anterior se analizó la carpeta de archivos .fast5 que no fueron bien leídos durante el basecalling. En total esta carpeta registra 816 reads. "
   ]
  },
  {
   "cell_type": "code",
   "execution_count": 24,
   "metadata": {},
   "outputs": [],
   "source": [
    "directory='/Users/camilogarcia/Desktop/Fastq-5/workspace/pass/0'"
   ]
  },
  {
   "cell_type": "code",
   "execution_count": 17,
   "metadata": {},
   "outputs": [
    {
     "name": "stdout",
     "output_type": "stream",
     "text": [
      "/Users/camilogarcia/anaconda2/lib/python2.7/site-packages/h5py/__init__.py:36: FutureWarning: Conversion of the second argument of issubdtype from `float` to `np.floating` is deprecated. In future, it will be treated as `np.float64 == np.dtype(float).type`.\n",
      "  from ._conv import register_converters as _register_converters\n",
      "total reads\t2012\n",
      "total base pairs\t10594471\n",
      "mean\t5265.64\n",
      "median\t3657\n",
      "min\t249\n",
      "max\t46289\n",
      "N25\t15877\n",
      "N50\t8681\n",
      "N75\t4949\n"
     ]
    }
   ],
   "source": [
    "!poretools stats -q $directory"
   ]
  },
  {
   "cell_type": "markdown",
   "metadata": {},
   "source": [
    "En este caso se obtuviero 2012 reads que pasaron el control de calidad (?)."
   ]
  },
  {
   "cell_type": "code",
   "execution_count": 31,
   "metadata": {},
   "outputs": [
    {
     "name": "stdout",
     "output_type": "stream",
     "text": [
      "/Users/camilogarcia/anaconda2/lib/python2.7/site-packages/h5py/__init__.py:36: FutureWarning: Conversion of the second argument of issubdtype from `float` to `np.floating` is deprecated. In future, it will be treated as `np.float64 == np.dtype(float).type`.\n",
      "  from ._conv import register_converters as _register_converters\n"
     ]
    }
   ],
   "source": [
    "!poretools readstats -q $directory > readstats-camilo.txt"
   ]
  },
  {
   "cell_type": "markdown",
   "metadata": {},
   "source": [
    "El archivo se crea justo en la carpeta externa del presente cuaderno."
   ]
  },
  {
   "cell_type": "code",
   "execution_count": 29,
   "metadata": {},
   "outputs": [
    {
     "name": "stdout",
     "output_type": "stream",
     "text": [
      "    2013 readstats.txt\n"
     ]
    }
   ],
   "source": [
    "!wc -l readstats.txt"
   ]
  },
  {
   "cell_type": "code",
   "execution_count": 33,
   "metadata": {},
   "outputs": [
    {
     "name": "stdout",
     "output_type": "stream",
     "text": [
      "start_time\tchannel_number\tread_number\ttemplate_events\tcomplement_events\n",
      "1480018401\t108\t39\t0\t0\n",
      "1480020188\t263\t268\t0\t0\n",
      "1480021259\t351\t184\t0\t0\n",
      "1480018647\t507\t49\t0\t0\n",
      "1480021858\t210\t176\t0\t0\n",
      "1480022636\t181\t339\t0\t0\n",
      "1480024226\t253\t303\t0\t0\n",
      "1480019709\t499\t80\t0\t0\n",
      "1480023785\t115\t296\t0\t0\n"
     ]
    }
   ],
   "source": [
    "!head -10 readstats-camilo.txt"
   ]
  },
  {
   "cell_type": "code",
   "execution_count": 1,
   "metadata": {},
   "outputs": [],
   "source": [
    "%load_ext rpy2.ipython"
   ]
  },
  {
   "cell_type": "code",
   "execution_count": 12,
   "metadata": {},
   "outputs": [
    {
     "data": {
      "text/html": [
       "<div>\n",
       "<style scoped>\n",
       "    .dataframe tbody tr th:only-of-type {\n",
       "        vertical-align: middle;\n",
       "    }\n",
       "\n",
       "    .dataframe tbody tr th {\n",
       "        vertical-align: top;\n",
       "    }\n",
       "\n",
       "    .dataframe thead th {\n",
       "        text-align: right;\n",
       "    }\n",
       "</style>\n",
       "<table border=\"1\" class=\"dataframe\">\n",
       "  <thead>\n",
       "    <tr style=\"text-align: right;\">\n",
       "      <th></th>\n",
       "      <th>V1</th>\n",
       "      <th>V2</th>\n",
       "      <th>V3</th>\n",
       "      <th>V4</th>\n",
       "      <th>V5</th>\n",
       "    </tr>\n",
       "  </thead>\n",
       "  <tbody>\n",
       "    <tr>\n",
       "      <th>1</th>\n",
       "      <td>start_time</td>\n",
       "      <td>channel_number</td>\n",
       "      <td>read_number</td>\n",
       "      <td>template_events</td>\n",
       "      <td>complement_events</td>\n",
       "    </tr>\n",
       "    <tr>\n",
       "      <th>2</th>\n",
       "      <td>1480018401</td>\n",
       "      <td>108</td>\n",
       "      <td>39</td>\n",
       "      <td>0</td>\n",
       "      <td>0</td>\n",
       "    </tr>\n",
       "    <tr>\n",
       "      <th>3</th>\n",
       "      <td>1480020188</td>\n",
       "      <td>263</td>\n",
       "      <td>268</td>\n",
       "      <td>0</td>\n",
       "      <td>0</td>\n",
       "    </tr>\n",
       "    <tr>\n",
       "      <th>4</th>\n",
       "      <td>1480021259</td>\n",
       "      <td>351</td>\n",
       "      <td>184</td>\n",
       "      <td>0</td>\n",
       "      <td>0</td>\n",
       "    </tr>\n",
       "    <tr>\n",
       "      <th>5</th>\n",
       "      <td>1480018647</td>\n",
       "      <td>507</td>\n",
       "      <td>49</td>\n",
       "      <td>0</td>\n",
       "      <td>0</td>\n",
       "    </tr>\n",
       "    <tr>\n",
       "      <th>6</th>\n",
       "      <td>1480021858</td>\n",
       "      <td>210</td>\n",
       "      <td>176</td>\n",
       "      <td>0</td>\n",
       "      <td>0</td>\n",
       "    </tr>\n",
       "  </tbody>\n",
       "</table>\n",
       "</div>"
      ],
      "text/plain": [
       "           V1              V2           V3               V4                 V5\n",
       "1  start_time  channel_number  read_number  template_events  complement_events\n",
       "2  1480018401             108           39                0                  0\n",
       "3  1480020188             263          268                0                  0\n",
       "4  1480021259             351          184                0                  0\n",
       "5  1480018647             507           49                0                  0\n",
       "6  1480021858             210          176                0                  0"
      ]
     },
     "execution_count": 12,
     "metadata": {},
     "output_type": "execute_result"
    }
   ],
   "source": [
    "%R stats=read.table(\"readstats-camilo.txt\", sep=\"\\t\")\n",
    "%R head(stats)\n"
   ]
  },
  {
   "cell_type": "code",
   "execution_count": 14,
   "metadata": {},
   "outputs": [
    {
     "data": {
      "image/png": "[encoded data removed]"
     },
     "metadata": {},
     "output_type": "display_data"
    }
   ],
   "source": [
    "%R smoothScatter(stats$V1,stats$V3)"
   ]
  },
  {
   "cell_type": "code",
   "execution_count": 19,
   "metadata": {},
   "outputs": [
    {
     "name": "stdout",
     "output_type": "stream",
     "text": [
      "/Users/camilogarcia/anaconda2/lib/python2.7/site-packages/h5py/__init__.py:36: FutureWarning: Conversion of the second argument of issubdtype from `float` to `np.floating` is deprecated. In future, it will be treated as `np.float64 == np.dtype(float).type`.\n",
      "  from ._conv import register_converters as _register_converters\n",
      "usage: poretools hist [-h] [-q] [--min-length MIN_LENGTH]\n",
      "                      [--max-length MAX_LENGTH] [--num-bins NUM_BINS]\n",
      "                      [--saveas STRING] [--theme-bw] [--watch]\n",
      "                      FILES [FILES ...]\n",
      "poretools hist: error: too few arguments\n"
     ]
    }
   ],
   "source": [
    "!poretools hist --theme-bw $directory"
   ]
  },
  {
   "cell_type": "code",
   "execution_count": 16,
   "metadata": {},
   "outputs": [
    {
     "name": "stdout",
     "output_type": "stream",
     "text": [
      "/Users/camilogarcia/anaconda2/lib/python2.7/site-packages/h5py/__init__.py:36: FutureWarning: Conversion of the second argument of issubdtype from `float` to `np.floating` is deprecated. In future, it will be treated as `np.float64 == np.dtype(float).type`.\n",
      "  from ._conv import register_converters as _register_converters\n",
      "usage: poretools hist [-h] [-q] [--min-length MIN_LENGTH]\n",
      "                      [--max-length MAX_LENGTH] [--num-bins NUM_BINS]\n",
      "                      [--saveas STRING] [--theme-bw] [--watch]\n",
      "                      FILES [FILES ...]\n",
      "\n",
      "positional arguments:\n",
      "  FILES                 The input FAST5 files.\n",
      "\n",
      "optional arguments:\n",
      "  -h, --help            show this help message and exit\n",
      "  -q, --quiet           Do not output warnings to stderr\n",
      "  --min-length MIN_LENGTH\n",
      "                        Minimum read length to be included in histogram.\n",
      "  --max-length MAX_LENGTH\n",
      "                        Maximum read length to be included in histogram.\n",
      "  --num-bins NUM_BINS   The number of histogram bins.\n",
      "  --saveas STRING       Save the plot to a file.\n",
      "  --theme-bw            Use a black and white theme.\n",
      "  --watch               Monitor a directory.\n"
     ]
    }
   ],
   "source": [
    "!poretools hist -h"
   ]
  },
  {
   "cell_type": "code",
   "execution_count": 17,
   "metadata": {},
   "outputs": [
    {
     "name": "stdout",
     "output_type": "stream",
     "text": [
      "/Users/camilogarcia/anaconda2/lib/python2.7/site-packages/h5py/__init__.py:36: FutureWarning: Conversion of the second argument of issubdtype from `float` to `np.floating` is deprecated. In future, it will be treated as `np.float64 == np.dtype(float).type`.\n",
      "  from ._conv import register_converters as _register_converters\n",
      "usage: poretools qualpos [-h] [-q] [--min-length MIN_LENGTH]\n",
      "                         [--max-length MAX_LENGTH] [--bin-width BIN_WIDTH]\n",
      "                         [--type STRING] [--start START_TIME] [--end END_TIME]\n",
      "                         [--high-quality] [--saveas STRING]\n",
      "                         FILES [FILES ...]\n",
      "poretools qualpos: error: too few arguments\n"
     ]
    }
   ],
   "source": [
    "!poretools qualpos $directory"
   ]
  },
  {
   "cell_type": "code",
   "execution_count": 29,
   "metadata": {},
   "outputs": [],
   "source": [
    "from poretools import Fast5FileSet\n",
    "fast5s = Fast5FileSet('/Users/camilogarcia/Desktop/Fastq-5/workspace/pass/0') \n",
    "for fast5 in fast5s:\n",
    "    start = fast5.get_start_time()\n",
    "    porenum = fast5.get_channel_number() \n",
    "    fq = fast5.get_fastq()\n",
    "    #print porenum, start, fq.seq, fq.qual \n",
    "    fast5.close()"
   ]
  },
  {
   "cell_type": "code",
   "execution_count": 36,
   "metadata": {},
   "outputs": [],
   "source": [
    "from poretools import hist\n",
    "for fast5 in fast5s:\n",
    "    hist = fast5.hist()\n",
    "    print hist"
   ]
  },
  {
   "cell_type": "code",
   "execution_count": null,
   "metadata": {},
   "outputs": [],
   "source": []
  }
 ],
 "metadata": {
  "kernelspec": {
   "display_name": "Python [conda env:anaconda2]",
   "language": "python",
   "name": "conda-env-anaconda2-py"
  },
  "language_info": {
   "codemirror_mode": {
    "name": "ipython",
    "version": 2
   },
   "file_extension": ".py",
   "mimetype": "text/x-python",
   "name": "python",
   "nbconvert_exporter": "python",
   "pygments_lexer": "ipython2",
   "version": "2.7.14"
  }
 },
 "nbformat": 4,
 "nbformat_minor": 2
}
